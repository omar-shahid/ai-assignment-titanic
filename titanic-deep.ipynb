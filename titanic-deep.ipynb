{
 "cells": [
  {
   "cell_type": "code",
   "execution_count": 1,
   "id": "ad91dae6-d4e2-4ad8-a29c-24d5c8e8ed6a",
   "metadata": {},
   "outputs": [
    {
     "name": "stderr",
     "output_type": "stream",
     "text": [
      "2021-10-17 12:05:46.016686: W tensorflow/stream_executor/platform/default/dso_loader.cc:64] Could not load dynamic library 'libcudart.so.11.0'; dlerror: libcudart.so.11.0: cannot open shared object file: No such file or directory\n",
      "2021-10-17 12:05:46.016714: I tensorflow/stream_executor/cuda/cudart_stub.cc:29] Ignore above cudart dlerror if you do not have a GPU set up on your machine.\n"
     ]
    }
   ],
   "source": [
    "import pandas as pd\n",
    "import numpy as np\n",
    "import matplotlib.pyplot as plt\n",
    "from tensorflow import keras\n",
    "import tensorflow\n",
    "from sklearn.model_selection import train_test_split"
   ]
  },
  {
   "cell_type": "code",
   "execution_count": 2,
   "id": "4a2a13df-5a1c-4baf-ad75-7414db69ff58",
   "metadata": {},
   "outputs": [
    {
     "data": {
      "text/plain": [
       "'2.6.0'"
      ]
     },
     "execution_count": 2,
     "metadata": {},
     "output_type": "execute_result"
    }
   ],
   "source": [
    "tensorflow.__version__"
   ]
  },
  {
   "cell_type": "code",
   "execution_count": 3,
   "id": "b06b0458-0892-4801-bff5-bdf94ff0419b",
   "metadata": {},
   "outputs": [
    {
     "data": {
      "text/html": [
       "<div>\n",
       "<style scoped>\n",
       "    .dataframe tbody tr th:only-of-type {\n",
       "        vertical-align: middle;\n",
       "    }\n",
       "\n",
       "    .dataframe tbody tr th {\n",
       "        vertical-align: top;\n",
       "    }\n",
       "\n",
       "    .dataframe thead th {\n",
       "        text-align: right;\n",
       "    }\n",
       "</style>\n",
       "<table border=\"1\" class=\"dataframe\">\n",
       "  <thead>\n",
       "    <tr style=\"text-align: right;\">\n",
       "      <th></th>\n",
       "      <th>PassengerId</th>\n",
       "      <th>Survived</th>\n",
       "      <th>Pclass</th>\n",
       "      <th>Name</th>\n",
       "      <th>Sex</th>\n",
       "      <th>Age</th>\n",
       "      <th>SibSp</th>\n",
       "      <th>Parch</th>\n",
       "      <th>Ticket</th>\n",
       "      <th>Fare</th>\n",
       "      <th>Cabin</th>\n",
       "      <th>Embarked</th>\n",
       "    </tr>\n",
       "  </thead>\n",
       "  <tbody>\n",
       "    <tr>\n",
       "      <th>0</th>\n",
       "      <td>1</td>\n",
       "      <td>0</td>\n",
       "      <td>3</td>\n",
       "      <td>Braund, Mr. Owen Harris</td>\n",
       "      <td>male</td>\n",
       "      <td>22.0</td>\n",
       "      <td>1</td>\n",
       "      <td>0</td>\n",
       "      <td>A/5 21171</td>\n",
       "      <td>7.2500</td>\n",
       "      <td>NaN</td>\n",
       "      <td>S</td>\n",
       "    </tr>\n",
       "    <tr>\n",
       "      <th>1</th>\n",
       "      <td>2</td>\n",
       "      <td>1</td>\n",
       "      <td>1</td>\n",
       "      <td>Cumings, Mrs. John Bradley (Florence Briggs Th...</td>\n",
       "      <td>female</td>\n",
       "      <td>38.0</td>\n",
       "      <td>1</td>\n",
       "      <td>0</td>\n",
       "      <td>PC 17599</td>\n",
       "      <td>71.2833</td>\n",
       "      <td>C85</td>\n",
       "      <td>C</td>\n",
       "    </tr>\n",
       "    <tr>\n",
       "      <th>2</th>\n",
       "      <td>3</td>\n",
       "      <td>1</td>\n",
       "      <td>3</td>\n",
       "      <td>Heikkinen, Miss. Laina</td>\n",
       "      <td>female</td>\n",
       "      <td>26.0</td>\n",
       "      <td>0</td>\n",
       "      <td>0</td>\n",
       "      <td>STON/O2. 3101282</td>\n",
       "      <td>7.9250</td>\n",
       "      <td>NaN</td>\n",
       "      <td>S</td>\n",
       "    </tr>\n",
       "    <tr>\n",
       "      <th>3</th>\n",
       "      <td>4</td>\n",
       "      <td>1</td>\n",
       "      <td>1</td>\n",
       "      <td>Futrelle, Mrs. Jacques Heath (Lily May Peel)</td>\n",
       "      <td>female</td>\n",
       "      <td>35.0</td>\n",
       "      <td>1</td>\n",
       "      <td>0</td>\n",
       "      <td>113803</td>\n",
       "      <td>53.1000</td>\n",
       "      <td>C123</td>\n",
       "      <td>S</td>\n",
       "    </tr>\n",
       "    <tr>\n",
       "      <th>4</th>\n",
       "      <td>5</td>\n",
       "      <td>0</td>\n",
       "      <td>3</td>\n",
       "      <td>Allen, Mr. William Henry</td>\n",
       "      <td>male</td>\n",
       "      <td>35.0</td>\n",
       "      <td>0</td>\n",
       "      <td>0</td>\n",
       "      <td>373450</td>\n",
       "      <td>8.0500</td>\n",
       "      <td>NaN</td>\n",
       "      <td>S</td>\n",
       "    </tr>\n",
       "  </tbody>\n",
       "</table>\n",
       "</div>"
      ],
      "text/plain": [
       "   PassengerId  Survived  Pclass  \\\n",
       "0            1         0       3   \n",
       "1            2         1       1   \n",
       "2            3         1       3   \n",
       "3            4         1       1   \n",
       "4            5         0       3   \n",
       "\n",
       "                                                Name     Sex   Age  SibSp  \\\n",
       "0                            Braund, Mr. Owen Harris    male  22.0      1   \n",
       "1  Cumings, Mrs. John Bradley (Florence Briggs Th...  female  38.0      1   \n",
       "2                             Heikkinen, Miss. Laina  female  26.0      0   \n",
       "3       Futrelle, Mrs. Jacques Heath (Lily May Peel)  female  35.0      1   \n",
       "4                           Allen, Mr. William Henry    male  35.0      0   \n",
       "\n",
       "   Parch            Ticket     Fare Cabin Embarked  \n",
       "0      0         A/5 21171   7.2500   NaN        S  \n",
       "1      0          PC 17599  71.2833   C85        C  \n",
       "2      0  STON/O2. 3101282   7.9250   NaN        S  \n",
       "3      0            113803  53.1000  C123        S  \n",
       "4      0            373450   8.0500   NaN        S  "
      ]
     },
     "execution_count": 3,
     "metadata": {},
     "output_type": "execute_result"
    }
   ],
   "source": [
    "dataframe = pd.read_csv(\"./titanic.csv\", delimiter=\",\")\n",
    "dataframe.head()"
   ]
  },
  {
   "cell_type": "code",
   "execution_count": 4,
   "id": "11ec5e45-efa0-4bec-97d3-2764415d4246",
   "metadata": {},
   "outputs": [
    {
     "data": {
      "text/html": [
       "<div>\n",
       "<style scoped>\n",
       "    .dataframe tbody tr th:only-of-type {\n",
       "        vertical-align: middle;\n",
       "    }\n",
       "\n",
       "    .dataframe tbody tr th {\n",
       "        vertical-align: top;\n",
       "    }\n",
       "\n",
       "    .dataframe thead th {\n",
       "        text-align: right;\n",
       "    }\n",
       "</style>\n",
       "<table border=\"1\" class=\"dataframe\">\n",
       "  <thead>\n",
       "    <tr style=\"text-align: right;\">\n",
       "      <th></th>\n",
       "      <th>PassengerId</th>\n",
       "      <th>Survived</th>\n",
       "      <th>Pclass</th>\n",
       "      <th>Age</th>\n",
       "      <th>SibSp</th>\n",
       "      <th>Parch</th>\n",
       "      <th>Fare</th>\n",
       "    </tr>\n",
       "  </thead>\n",
       "  <tbody>\n",
       "    <tr>\n",
       "      <th>count</th>\n",
       "      <td>891.000000</td>\n",
       "      <td>891.000000</td>\n",
       "      <td>891.000000</td>\n",
       "      <td>714.000000</td>\n",
       "      <td>891.000000</td>\n",
       "      <td>891.000000</td>\n",
       "      <td>891.000000</td>\n",
       "    </tr>\n",
       "    <tr>\n",
       "      <th>mean</th>\n",
       "      <td>446.000000</td>\n",
       "      <td>0.383838</td>\n",
       "      <td>2.308642</td>\n",
       "      <td>29.699118</td>\n",
       "      <td>0.523008</td>\n",
       "      <td>0.381594</td>\n",
       "      <td>32.204208</td>\n",
       "    </tr>\n",
       "    <tr>\n",
       "      <th>std</th>\n",
       "      <td>257.353842</td>\n",
       "      <td>0.486592</td>\n",
       "      <td>0.836071</td>\n",
       "      <td>14.526497</td>\n",
       "      <td>1.102743</td>\n",
       "      <td>0.806057</td>\n",
       "      <td>49.693429</td>\n",
       "    </tr>\n",
       "    <tr>\n",
       "      <th>min</th>\n",
       "      <td>1.000000</td>\n",
       "      <td>0.000000</td>\n",
       "      <td>1.000000</td>\n",
       "      <td>0.420000</td>\n",
       "      <td>0.000000</td>\n",
       "      <td>0.000000</td>\n",
       "      <td>0.000000</td>\n",
       "    </tr>\n",
       "    <tr>\n",
       "      <th>25%</th>\n",
       "      <td>223.500000</td>\n",
       "      <td>0.000000</td>\n",
       "      <td>2.000000</td>\n",
       "      <td>20.125000</td>\n",
       "      <td>0.000000</td>\n",
       "      <td>0.000000</td>\n",
       "      <td>7.910400</td>\n",
       "    </tr>\n",
       "    <tr>\n",
       "      <th>50%</th>\n",
       "      <td>446.000000</td>\n",
       "      <td>0.000000</td>\n",
       "      <td>3.000000</td>\n",
       "      <td>28.000000</td>\n",
       "      <td>0.000000</td>\n",
       "      <td>0.000000</td>\n",
       "      <td>14.454200</td>\n",
       "    </tr>\n",
       "    <tr>\n",
       "      <th>75%</th>\n",
       "      <td>668.500000</td>\n",
       "      <td>1.000000</td>\n",
       "      <td>3.000000</td>\n",
       "      <td>38.000000</td>\n",
       "      <td>1.000000</td>\n",
       "      <td>0.000000</td>\n",
       "      <td>31.000000</td>\n",
       "    </tr>\n",
       "    <tr>\n",
       "      <th>max</th>\n",
       "      <td>891.000000</td>\n",
       "      <td>1.000000</td>\n",
       "      <td>3.000000</td>\n",
       "      <td>80.000000</td>\n",
       "      <td>8.000000</td>\n",
       "      <td>6.000000</td>\n",
       "      <td>512.329200</td>\n",
       "    </tr>\n",
       "  </tbody>\n",
       "</table>\n",
       "</div>"
      ],
      "text/plain": [
       "       PassengerId    Survived      Pclass         Age       SibSp  \\\n",
       "count   891.000000  891.000000  891.000000  714.000000  891.000000   \n",
       "mean    446.000000    0.383838    2.308642   29.699118    0.523008   \n",
       "std     257.353842    0.486592    0.836071   14.526497    1.102743   \n",
       "min       1.000000    0.000000    1.000000    0.420000    0.000000   \n",
       "25%     223.500000    0.000000    2.000000   20.125000    0.000000   \n",
       "50%     446.000000    0.000000    3.000000   28.000000    0.000000   \n",
       "75%     668.500000    1.000000    3.000000   38.000000    1.000000   \n",
       "max     891.000000    1.000000    3.000000   80.000000    8.000000   \n",
       "\n",
       "            Parch        Fare  \n",
       "count  891.000000  891.000000  \n",
       "mean     0.381594   32.204208  \n",
       "std      0.806057   49.693429  \n",
       "min      0.000000    0.000000  \n",
       "25%      0.000000    7.910400  \n",
       "50%      0.000000   14.454200  \n",
       "75%      0.000000   31.000000  \n",
       "max      6.000000  512.329200  "
      ]
     },
     "execution_count": 4,
     "metadata": {},
     "output_type": "execute_result"
    }
   ],
   "source": [
    "dataframe.describe()"
   ]
  },
  {
   "cell_type": "code",
   "execution_count": 5,
   "id": "d57e9be2-05e5-4a51-83e2-2171194a8a74",
   "metadata": {},
   "outputs": [
    {
     "data": {
      "text/plain": [
       "PassengerId      0\n",
       "Survived         0\n",
       "Pclass           0\n",
       "Name             0\n",
       "Sex              0\n",
       "Age            177\n",
       "SibSp            0\n",
       "Parch            0\n",
       "Ticket           0\n",
       "Fare             0\n",
       "Cabin          687\n",
       "Embarked         2\n",
       "dtype: int64"
      ]
     },
     "execution_count": 5,
     "metadata": {},
     "output_type": "execute_result"
    }
   ],
   "source": [
    "dataframe.isna().sum()"
   ]
  },
  {
   "cell_type": "code",
   "execution_count": 6,
   "id": "3051c59a-1641-4d83-8032-2fc62dc2125e",
   "metadata": {},
   "outputs": [
    {
     "data": {
      "text/plain": [
       "<AxesSubplot:xlabel='Age', ylabel='Survived'>"
      ]
     },
     "execution_count": 6,
     "metadata": {},
     "output_type": "execute_result"
    },
    {
     "data": {
      "image/png": "[encoded data removed]",
      "text/plain": [
       "<Figure size 432x288 with 1 Axes>"
      ]
     },
     "metadata": {
      "needs_background": "light"
     },
     "output_type": "display_data"
    }
   ],
   "source": [
    "# dataframe[[\"Age\", \"Survived\"]].plot(kind=\"scatter\")\n",
    "dataframe.plot.scatter(\"Age\", \"Survived\") #Age is not a feature"
   ]
  },
  {
   "cell_type": "code",
   "execution_count": 7,
   "id": "88ca3c7b-866d-4c26-a174-7f694eba0b85",
   "metadata": {},
   "outputs": [
    {
     "data": {
      "text/plain": [
       "<AxesSubplot:xlabel='Pclass', ylabel='Survived'>"
      ]
     },
     "execution_count": 7,
     "metadata": {},
     "output_type": "execute_result"
    },
    {
     "data": {
      "image/png": "[encoded data removed]",
      "text/plain": [
       "<Figure size 432x288 with 1 Axes>"
      ]
     },
     "metadata": {
      "needs_background": "light"
     },
     "output_type": "display_data"
    }
   ],
   "source": [
    "dataframe.plot.scatter(\"Pclass\", \"Survived\") #Pclass is not a feature"
   ]
  },
  {
   "cell_type": "code",
   "execution_count": 8,
   "id": "f583fde9-cba4-4ace-806a-a4f9f109080c",
   "metadata": {},
   "outputs": [],
   "source": [
    "df = dataframe.dropna()"
   ]
  },
  {
   "cell_type": "code",
   "execution_count": 9,
   "id": "0c75c2f3-9ae6-4f9a-8e5e-581a513710fb",
   "metadata": {},
   "outputs": [
    {
     "data": {
      "text/plain": [
       "PassengerId    0\n",
       "Survived       0\n",
       "Pclass         0\n",
       "Name           0\n",
       "Sex            0\n",
       "Age            0\n",
       "SibSp          0\n",
       "Parch          0\n",
       "Ticket         0\n",
       "Fare           0\n",
       "Cabin          0\n",
       "Embarked       0\n",
       "dtype: int64"
      ]
     },
     "execution_count": 9,
     "metadata": {},
     "output_type": "execute_result"
    }
   ],
   "source": [
    "df.isna().sum()"
   ]
  },
  {
   "cell_type": "code",
   "execution_count": 10,
   "id": "e7a48a00-0c72-4be1-a2cc-6064c8b13997",
   "metadata": {},
   "outputs": [
    {
     "data": {
      "text/plain": [
       "array([0, 1, 2, 4])"
      ]
     },
     "execution_count": 10,
     "metadata": {},
     "output_type": "execute_result"
    }
   ],
   "source": [
    "df.Parch.unique()"
   ]
  },
  {
   "cell_type": "code",
   "execution_count": 11,
   "id": "01423685-3fb3-475b-9ffc-ec0b7b0044ba",
   "metadata": {},
   "outputs": [
    {
     "data": {
      "text/plain": [
       "<AxesSubplot:xlabel='Parch', ylabel='Survived'>"
      ]
     },
     "execution_count": 11,
     "metadata": {},
     "output_type": "execute_result"
    },
    {
     "data": {
      "image/png": "[encoded data removed]",
      "text/plain": [
       "<Figure size 432x288 with 1 Axes>"
      ]
     },
     "metadata": {
      "needs_background": "light"
     },
     "output_type": "display_data"
    }
   ],
   "source": [
    "dataframe.plot.scatter(\"Parch\", \"Survived\")"
   ]
  },
  {
   "cell_type": "code",
   "execution_count": 12,
   "id": "29ec44d6-c1ff-4527-bae1-34b9fed8f87a",
   "metadata": {},
   "outputs": [],
   "source": [
    "gender_dummies = pd.get_dummies(df.Sex)"
   ]
  },
  {
   "cell_type": "code",
   "execution_count": 13,
   "id": "988a7134-956e-4d48-a421-070102f25f3a",
   "metadata": {},
   "outputs": [],
   "source": [
    "x = df[[\"Age\", \"Pclass\", \"PassengerId\",  \"Parch\"]]\n",
    "y = df.Survived\n"
   ]
  },
  {
   "cell_type": "code",
   "execution_count": 14,
   "id": "9ef3a29d-2446-40bb-8ec1-9831b862ae5f",
   "metadata": {},
   "outputs": [],
   "source": [
    "x_train, x_test, y_train, y_test = train_test_split(x, y, test_size=0.2)"
   ]
  },
  {
   "cell_type": "code",
   "execution_count": 15,
   "id": "95a73d90-35ec-4088-bcc6-c3f04a526787",
   "metadata": {},
   "outputs": [
    {
     "data": {
      "text/plain": [
       "(146, 37)"
      ]
     },
     "execution_count": 15,
     "metadata": {},
     "output_type": "execute_result"
    }
   ],
   "source": [
    "len(x_train), len(x_test)"
   ]
  },
  {
   "cell_type": "code",
   "execution_count": 16,
   "id": "1c19d499-49ad-4ae2-81bc-360351449a4e",
   "metadata": {},
   "outputs": [],
   "source": [
    "val_x = x_train[:20].to_numpy()\n",
    "val_y = y_train[:20].to_numpy()\n",
    "x_train = x_train[20:].to_numpy()\n",
    "y_train = y_train[20:].to_numpy()"
   ]
  },
  {
   "cell_type": "code",
   "execution_count": 17,
   "id": "0a4b83ca-a901-42d2-ac58-355ad007ce49",
   "metadata": {},
   "outputs": [
    {
     "data": {
      "text/plain": [
       "(20, 126)"
      ]
     },
     "execution_count": 17,
     "metadata": {},
     "output_type": "execute_result"
    }
   ],
   "source": [
    "len(val_x), len(x_train)"
   ]
  },
  {
   "cell_type": "code",
   "execution_count": 18,
   "id": "2311d0dd-5abd-420e-814a-7487f77461dd",
   "metadata": {},
   "outputs": [
    {
     "data": {
      "text/plain": [
       "(20, 126)"
      ]
     },
     "execution_count": 18,
     "metadata": {},
     "output_type": "execute_result"
    }
   ],
   "source": [
    "len(val_y), len(y_train)"
   ]
  },
  {
   "cell_type": "code",
   "execution_count": 19,
   "id": "4b495ede-fb52-457b-8c4e-a9a12ec42867",
   "metadata": {},
   "outputs": [
    {
     "data": {
      "text/plain": [
       "(126, 4)"
      ]
     },
     "execution_count": 19,
     "metadata": {},
     "output_type": "execute_result"
    }
   ],
   "source": [
    "x_train.shape"
   ]
  },
  {
   "cell_type": "code",
   "execution_count": 20,
   "id": "063935d4-f256-46cf-9976-0787147d7681",
   "metadata": {},
   "outputs": [
    {
     "data": {
      "text/plain": [
       "array([ 36.,   1., 584.,   0.])"
      ]
     },
     "execution_count": 20,
     "metadata": {},
     "output_type": "execute_result"
    }
   ],
   "source": [
    "x_train[0]"
   ]
  },
  {
   "cell_type": "code",
   "execution_count": 26,
   "id": "4a67f21d-8f66-461f-b7c3-3f1c33cdd9a3",
   "metadata": {},
   "outputs": [
    {
     "data": {
      "text/plain": [
       "(37, 4)"
      ]
     },
     "execution_count": 26,
     "metadata": {},
     "output_type": "execute_result"
    }
   ],
   "source": [
    "x_test.shape"
   ]
  },
  {
   "cell_type": "code",
   "execution_count": 21,
   "id": "c87a4a67-6f73-4244-912e-b89e4febdee1",
   "metadata": {},
   "outputs": [
    {
     "name": "stderr",
     "output_type": "stream",
     "text": [
      "2021-10-17 12:05:50.040155: W tensorflow/stream_executor/platform/default/dso_loader.cc:64] Could not load dynamic library 'libcuda.so.1'; dlerror: libcuda.so.1: cannot open shared object file: No such file or directory\n",
      "2021-10-17 12:05:50.040198: W tensorflow/stream_executor/cuda/cuda_driver.cc:269] failed call to cuInit: UNKNOWN ERROR (303)\n",
      "2021-10-17 12:05:50.040220: I tensorflow/stream_executor/cuda/cuda_diagnostics.cc:156] kernel driver does not appear to be running on this host (ubuntu-OptiPlex-9010): /proc/driver/nvidia/version does not exist\n"
     ]
    }
   ],
   "source": [
    "model = keras.models.Sequential([\n",
    "    keras.layers.Dense(100, input_shape=(4,), activation=\"relu\"),\n",
    "    keras.layers.Dense(50, activation=\"relu\"),\n",
    "    keras.layers.Dense(1, activation=\"sigmoid\")\n",
    "])\n",
    "model.compile(optimizer=\"adamax\", loss=\"binary_crossentropy\", metrics=[\"accuracy\"])"
   ]
  },
  {
   "cell_type": "code",
   "execution_count": 22,
   "id": "0d52f52c-8217-43d7-bce3-4f09fcdbd33b",
   "metadata": {},
   "outputs": [
    {
     "name": "stderr",
     "output_type": "stream",
     "text": [
      "2021-10-17 12:05:50.129476: I tensorflow/compiler/mlir/mlir_graph_optimization_pass.cc:185] None of the MLIR Optimization Passes are enabled (registered 2)\n"
     ]
    },
    {
     "name": "stdout",
     "output_type": "stream",
     "text": [
      "Epoch 1/100\n",
      "3/3 [==============================] - 1s 90ms/step - loss: 14.1217 - accuracy: 0.6349 - val_loss: 2.4969 - val_accuracy: 0.8000\n",
      "Epoch 2/100\n",
      "3/3 [==============================] - 0s 11ms/step - loss: 2.8349 - accuracy: 0.4841 - val_loss: 6.1686 - val_accuracy: 0.3000\n",
      "Epoch 3/100\n",
      "3/3 [==============================] - 0s 15ms/step - loss: 3.9766 - accuracy: 0.3413 - val_loss: 0.8891 - val_accuracy: 0.8000\n",
      "Epoch 4/100\n",
      "3/3 [==============================] - 0s 16ms/step - loss: 2.3367 - accuracy: 0.6349 - val_loss: 1.9174 - val_accuracy: 0.7500\n",
      "Epoch 5/100\n",
      "3/3 [==============================] - 0s 11ms/step - loss: 2.7954 - accuracy: 0.6349 - val_loss: 1.0441 - val_accuracy: 0.7500\n",
      "Epoch 6/100\n",
      "3/3 [==============================] - 0s 12ms/step - loss: 1.1919 - accuracy: 0.5794 - val_loss: 2.2398 - val_accuracy: 0.2500\n",
      "Epoch 7/100\n",
      "3/3 [==============================] - 0s 12ms/step - loss: 1.5351 - accuracy: 0.3571 - val_loss: 0.7545 - val_accuracy: 0.7500\n",
      "Epoch 8/100\n",
      "3/3 [==============================] - 0s 17ms/step - loss: 0.9421 - accuracy: 0.6508 - val_loss: 0.8465 - val_accuracy: 0.7000\n",
      "Epoch 9/100\n",
      "3/3 [==============================] - 0s 15ms/step - loss: 0.8342 - accuracy: 0.6587 - val_loss: 1.0907 - val_accuracy: 0.2000\n",
      "Epoch 10/100\n",
      "3/3 [==============================] - 0s 12ms/step - loss: 0.8882 - accuracy: 0.4365 - val_loss: 0.7803 - val_accuracy: 0.7000\n",
      "Epoch 11/100\n",
      "3/3 [==============================] - 0s 12ms/step - loss: 0.8717 - accuracy: 0.6508 - val_loss: 0.8391 - val_accuracy: 0.7000\n",
      "Epoch 12/100\n",
      "3/3 [==============================] - 0s 12ms/step - loss: 0.8068 - accuracy: 0.6270 - val_loss: 1.0584 - val_accuracy: 0.2000\n",
      "Epoch 13/100\n",
      "3/3 [==============================] - 0s 11ms/step - loss: 0.8219 - accuracy: 0.4048 - val_loss: 0.7523 - val_accuracy: 0.7000\n",
      "Epoch 14/100\n",
      "3/3 [==============================] - 0s 12ms/step - loss: 0.6950 - accuracy: 0.6429 - val_loss: 0.7460 - val_accuracy: 0.7000\n",
      "Epoch 15/100\n",
      "3/3 [==============================] - 0s 11ms/step - loss: 0.6867 - accuracy: 0.6111 - val_loss: 0.7701 - val_accuracy: 0.6500\n",
      "Epoch 16/100\n",
      "3/3 [==============================] - 0s 13ms/step - loss: 0.6893 - accuracy: 0.6270 - val_loss: 0.6923 - val_accuracy: 0.7000\n",
      "Epoch 17/100\n",
      "3/3 [==============================] - 0s 20ms/step - loss: 0.6887 - accuracy: 0.6508 - val_loss: 0.7251 - val_accuracy: 0.7000\n",
      "Epoch 18/100\n",
      "3/3 [==============================] - 0s 13ms/step - loss: 0.6791 - accuracy: 0.6587 - val_loss: 0.6577 - val_accuracy: 0.7000\n",
      "Epoch 19/100\n",
      "3/3 [==============================] - 0s 12ms/step - loss: 0.6707 - accuracy: 0.6587 - val_loss: 0.6897 - val_accuracy: 0.7000\n",
      "Epoch 20/100\n",
      "3/3 [==============================] - 0s 13ms/step - loss: 0.6667 - accuracy: 0.6508 - val_loss: 0.6700 - val_accuracy: 0.7000\n",
      "Epoch 21/100\n",
      "3/3 [==============================] - 0s 13ms/step - loss: 0.6638 - accuracy: 0.6508 - val_loss: 0.6571 - val_accuracy: 0.7000\n",
      "Epoch 22/100\n",
      "3/3 [==============================] - 0s 12ms/step - loss: 0.6579 - accuracy: 0.6587 - val_loss: 0.6774 - val_accuracy: 0.7000\n",
      "Epoch 23/100\n",
      "3/3 [==============================] - 0s 12ms/step - loss: 0.6642 - accuracy: 0.6587 - val_loss: 0.6418 - val_accuracy: 0.7000\n",
      "Epoch 24/100\n",
      "3/3 [==============================] - 0s 12ms/step - loss: 0.6514 - accuracy: 0.6667 - val_loss: 0.6876 - val_accuracy: 0.7000\n",
      "Epoch 25/100\n",
      "3/3 [==============================] - 0s 12ms/step - loss: 0.6629 - accuracy: 0.6746 - val_loss: 0.6733 - val_accuracy: 0.7000\n",
      "Epoch 26/100\n",
      "3/3 [==============================] - 0s 15ms/step - loss: 0.6538 - accuracy: 0.6508 - val_loss: 0.6683 - val_accuracy: 0.7000\n",
      "Epoch 27/100\n",
      "3/3 [==============================] - 0s 13ms/step - loss: 0.6535 - accuracy: 0.6587 - val_loss: 0.6310 - val_accuracy: 0.7000\n",
      "Epoch 28/100\n",
      "3/3 [==============================] - 0s 12ms/step - loss: 0.6635 - accuracy: 0.6587 - val_loss: 0.6574 - val_accuracy: 0.7000\n",
      "Epoch 29/100\n",
      "3/3 [==============================] - 0s 12ms/step - loss: 0.6514 - accuracy: 0.6667 - val_loss: 0.6857 - val_accuracy: 0.7000\n",
      "Epoch 30/100\n",
      "3/3 [==============================] - 0s 11ms/step - loss: 0.6712 - accuracy: 0.6587 - val_loss: 0.6244 - val_accuracy: 0.7000\n",
      "Epoch 31/100\n",
      "3/3 [==============================] - 0s 11ms/step - loss: 0.6738 - accuracy: 0.6587 - val_loss: 0.6855 - val_accuracy: 0.7000\n",
      "Epoch 32/100\n",
      "3/3 [==============================] - 0s 13ms/step - loss: 0.6558 - accuracy: 0.6429 - val_loss: 0.6273 - val_accuracy: 0.7000\n",
      "Epoch 33/100\n",
      "3/3 [==============================] - 0s 15ms/step - loss: 0.6429 - accuracy: 0.6587 - val_loss: 0.6503 - val_accuracy: 0.7000\n",
      "Epoch 34/100\n",
      "3/3 [==============================] - 0s 16ms/step - loss: 0.6497 - accuracy: 0.6508 - val_loss: 0.6355 - val_accuracy: 0.7000\n",
      "Epoch 35/100\n",
      "3/3 [==============================] - 0s 12ms/step - loss: 0.6399 - accuracy: 0.6587 - val_loss: 0.6387 - val_accuracy: 0.7000\n",
      "Epoch 36/100\n",
      "3/3 [==============================] - 0s 14ms/step - loss: 0.6414 - accuracy: 0.6587 - val_loss: 0.6286 - val_accuracy: 0.7000\n",
      "Epoch 37/100\n",
      "3/3 [==============================] - 0s 13ms/step - loss: 0.6449 - accuracy: 0.6587 - val_loss: 0.6688 - val_accuracy: 0.7000\n",
      "Epoch 38/100\n",
      "3/3 [==============================] - 0s 13ms/step - loss: 0.6435 - accuracy: 0.6587 - val_loss: 0.6262 - val_accuracy: 0.7000\n",
      "Epoch 39/100\n",
      "3/3 [==============================] - 0s 14ms/step - loss: 0.6421 - accuracy: 0.6587 - val_loss: 0.6291 - val_accuracy: 0.7000\n",
      "Epoch 40/100\n",
      "3/3 [==============================] - 0s 12ms/step - loss: 0.6392 - accuracy: 0.6587 - val_loss: 0.6309 - val_accuracy: 0.7000\n",
      "Epoch 41/100\n",
      "3/3 [==============================] - 0s 17ms/step - loss: 0.6509 - accuracy: 0.6587 - val_loss: 0.6623 - val_accuracy: 0.7000\n",
      "Epoch 42/100\n",
      "3/3 [==============================] - 0s 10ms/step - loss: 0.6689 - accuracy: 0.6111 - val_loss: 0.6637 - val_accuracy: 0.7000\n",
      "Epoch 43/100\n",
      "3/3 [==============================] - 0s 11ms/step - loss: 0.6381 - accuracy: 0.6349 - val_loss: 0.6101 - val_accuracy: 0.7000\n",
      "Epoch 44/100\n",
      "3/3 [==============================] - 0s 13ms/step - loss: 0.6461 - accuracy: 0.6587 - val_loss: 0.6370 - val_accuracy: 0.7000\n",
      "Epoch 45/100\n",
      "3/3 [==============================] - 0s 14ms/step - loss: 0.6520 - accuracy: 0.6508 - val_loss: 0.6154 - val_accuracy: 0.7000\n",
      "Epoch 46/100\n",
      "3/3 [==============================] - 0s 12ms/step - loss: 0.6522 - accuracy: 0.6587 - val_loss: 0.6084 - val_accuracy: 0.7000\n",
      "Epoch 47/100\n",
      "3/3 [==============================] - 0s 12ms/step - loss: 0.6456 - accuracy: 0.6587 - val_loss: 0.6918 - val_accuracy: 0.6000\n",
      "Epoch 48/100\n",
      "3/3 [==============================] - 0s 13ms/step - loss: 0.6343 - accuracy: 0.6746 - val_loss: 0.5930 - val_accuracy: 0.7000\n",
      "Epoch 49/100\n",
      "3/3 [==============================] - 0s 13ms/step - loss: 0.6665 - accuracy: 0.6667 - val_loss: 0.6625 - val_accuracy: 0.7000\n",
      "Epoch 50/100\n",
      "3/3 [==============================] - 0s 15ms/step - loss: 0.7001 - accuracy: 0.4683 - val_loss: 0.6209 - val_accuracy: 0.7000\n",
      "Epoch 51/100\n",
      "3/3 [==============================] - 0s 12ms/step - loss: 0.6574 - accuracy: 0.6667 - val_loss: 0.5984 - val_accuracy: 0.7000\n",
      "Epoch 52/100\n",
      "3/3 [==============================] - 0s 11ms/step - loss: 0.6687 - accuracy: 0.6746 - val_loss: 0.6971 - val_accuracy: 0.6500\n",
      "Epoch 53/100\n",
      "3/3 [==============================] - 0s 15ms/step - loss: 0.6426 - accuracy: 0.6508 - val_loss: 0.6117 - val_accuracy: 0.7000\n",
      "Epoch 54/100\n",
      "3/3 [==============================] - 0s 13ms/step - loss: 0.6346 - accuracy: 0.6587 - val_loss: 0.6669 - val_accuracy: 0.7000\n",
      "Epoch 55/100\n",
      "3/3 [==============================] - 0s 13ms/step - loss: 0.6629 - accuracy: 0.6190 - val_loss: 0.6366 - val_accuracy: 0.7000\n",
      "Epoch 56/100\n",
      "3/3 [==============================] - 0s 12ms/step - loss: 0.6267 - accuracy: 0.6587 - val_loss: 0.6283 - val_accuracy: 0.7000\n",
      "Epoch 57/100\n",
      "3/3 [==============================] - 0s 12ms/step - loss: 0.6319 - accuracy: 0.6587 - val_loss: 0.6674 - val_accuracy: 0.7000\n",
      "Epoch 58/100\n",
      "3/3 [==============================] - 0s 18ms/step - loss: 0.6275 - accuracy: 0.6587 - val_loss: 0.6515 - val_accuracy: 0.7000\n",
      "Epoch 59/100\n",
      "3/3 [==============================] - 0s 12ms/step - loss: 0.6375 - accuracy: 0.6587 - val_loss: 0.6667 - val_accuracy: 0.7000\n",
      "Epoch 60/100\n",
      "3/3 [==============================] - 0s 12ms/step - loss: 0.6260 - accuracy: 0.6667 - val_loss: 0.6941 - val_accuracy: 0.6500\n",
      "Epoch 61/100\n",
      "3/3 [==============================] - 0s 13ms/step - loss: 0.6339 - accuracy: 0.6587 - val_loss: 0.6297 - val_accuracy: 0.7000\n",
      "Epoch 62/100\n",
      "3/3 [==============================] - 0s 13ms/step - loss: 0.6320 - accuracy: 0.6587 - val_loss: 0.6588 - val_accuracy: 0.7000\n",
      "Epoch 63/100\n",
      "3/3 [==============================] - 0s 13ms/step - loss: 0.6451 - accuracy: 0.6508 - val_loss: 0.6277 - val_accuracy: 0.7000\n",
      "Epoch 64/100\n",
      "3/3 [==============================] - 0s 12ms/step - loss: 0.6339 - accuracy: 0.6667 - val_loss: 0.6100 - val_accuracy: 0.7000\n",
      "Epoch 65/100\n",
      "3/3 [==============================] - 0s 12ms/step - loss: 0.6353 - accuracy: 0.6587 - val_loss: 0.6638 - val_accuracy: 0.7000\n",
      "Epoch 66/100\n",
      "3/3 [==============================] - 0s 18ms/step - loss: 0.6230 - accuracy: 0.6746 - val_loss: 0.6111 - val_accuracy: 0.7000\n",
      "Epoch 67/100\n",
      "3/3 [==============================] - 0s 14ms/step - loss: 0.6411 - accuracy: 0.6667 - val_loss: 0.6523 - val_accuracy: 0.7000\n",
      "Epoch 68/100\n",
      "3/3 [==============================] - 0s 15ms/step - loss: 0.6387 - accuracy: 0.6508 - val_loss: 0.6579 - val_accuracy: 0.7000\n",
      "Epoch 69/100\n",
      "3/3 [==============================] - 0s 12ms/step - loss: 0.6126 - accuracy: 0.6587 - val_loss: 0.6048 - val_accuracy: 0.7000\n",
      "Epoch 70/100\n",
      "3/3 [==============================] - 0s 14ms/step - loss: 0.6591 - accuracy: 0.6667 - val_loss: 0.6466 - val_accuracy: 0.7000\n",
      "Epoch 71/100\n",
      "3/3 [==============================] - 0s 12ms/step - loss: 0.6352 - accuracy: 0.6746 - val_loss: 0.6536 - val_accuracy: 0.7000\n",
      "Epoch 72/100\n",
      "3/3 [==============================] - 0s 14ms/step - loss: 0.6559 - accuracy: 0.6349 - val_loss: 0.6157 - val_accuracy: 0.7000\n",
      "Epoch 73/100\n",
      "3/3 [==============================] - 0s 13ms/step - loss: 0.6381 - accuracy: 0.6667 - val_loss: 0.6036 - val_accuracy: 0.7000\n",
      "Epoch 74/100\n",
      "3/3 [==============================] - 0s 12ms/step - loss: 0.6233 - accuracy: 0.6667 - val_loss: 0.6969 - val_accuracy: 0.6500\n",
      "Epoch 75/100\n",
      "3/3 [==============================] - 0s 14ms/step - loss: 0.6341 - accuracy: 0.6905 - val_loss: 0.6040 - val_accuracy: 0.7000\n",
      "Epoch 76/100\n",
      "3/3 [==============================] - 0s 11ms/step - loss: 0.6502 - accuracy: 0.6667 - val_loss: 0.6251 - val_accuracy: 0.7000\n",
      "Epoch 77/100\n",
      "3/3 [==============================] - 0s 13ms/step - loss: 0.6417 - accuracy: 0.6111 - val_loss: 0.6632 - val_accuracy: 0.7000\n",
      "Epoch 78/100\n",
      "3/3 [==============================] - 0s 12ms/step - loss: 0.6402 - accuracy: 0.6667 - val_loss: 0.6147 - val_accuracy: 0.7000\n",
      "Epoch 79/100\n",
      "3/3 [==============================] - 0s 17ms/step - loss: 0.6171 - accuracy: 0.6587 - val_loss: 0.7847 - val_accuracy: 0.3500\n",
      "Epoch 80/100\n",
      "3/3 [==============================] - 0s 13ms/step - loss: 0.6708 - accuracy: 0.5635 - val_loss: 0.6172 - val_accuracy: 0.7000\n",
      "Epoch 81/100\n",
      "3/3 [==============================] - 0s 12ms/step - loss: 0.6421 - accuracy: 0.6587 - val_loss: 0.6416 - val_accuracy: 0.7000\n",
      "Epoch 82/100\n",
      "3/3 [==============================] - 0s 20ms/step - loss: 0.6335 - accuracy: 0.6349 - val_loss: 0.6212 - val_accuracy: 0.7000\n",
      "Epoch 83/100\n",
      "3/3 [==============================] - 0s 11ms/step - loss: 0.6338 - accuracy: 0.6667 - val_loss: 0.6149 - val_accuracy: 0.7000\n",
      "Epoch 84/100\n",
      "3/3 [==============================] - 0s 12ms/step - loss: 0.6466 - accuracy: 0.6587 - val_loss: 0.6485 - val_accuracy: 0.7000\n",
      "Epoch 85/100\n",
      "3/3 [==============================] - 0s 15ms/step - loss: 0.6293 - accuracy: 0.6746 - val_loss: 0.6226 - val_accuracy: 0.7000\n",
      "Epoch 86/100\n",
      "3/3 [==============================] - 0s 18ms/step - loss: 0.6254 - accuracy: 0.6746 - val_loss: 0.6704 - val_accuracy: 0.7000\n",
      "Epoch 87/100\n",
      "3/3 [==============================] - 0s 16ms/step - loss: 0.6461 - accuracy: 0.6667 - val_loss: 0.6136 - val_accuracy: 0.7000\n",
      "Epoch 88/100\n",
      "3/3 [==============================] - 0s 18ms/step - loss: 0.6330 - accuracy: 0.6667 - val_loss: 0.6932 - val_accuracy: 0.6500\n",
      "Epoch 89/100\n",
      "3/3 [==============================] - 0s 18ms/step - loss: 0.6335 - accuracy: 0.6270 - val_loss: 0.6562 - val_accuracy: 0.7000\n",
      "Epoch 90/100\n",
      "3/3 [==============================] - 0s 12ms/step - loss: 0.6218 - accuracy: 0.6587 - val_loss: 0.6263 - val_accuracy: 0.7000\n",
      "Epoch 91/100\n",
      "3/3 [==============================] - 0s 13ms/step - loss: 0.6400 - accuracy: 0.6508 - val_loss: 0.6725 - val_accuracy: 0.7000\n",
      "Epoch 92/100\n",
      "3/3 [==============================] - 0s 12ms/step - loss: 0.6163 - accuracy: 0.6746 - val_loss: 0.6200 - val_accuracy: 0.7000\n",
      "Epoch 93/100\n",
      "3/3 [==============================] - 0s 13ms/step - loss: 0.6434 - accuracy: 0.6667 - val_loss: 0.6710 - val_accuracy: 0.7000\n",
      "Epoch 94/100\n",
      "3/3 [==============================] - 0s 12ms/step - loss: 0.6386 - accuracy: 0.6587 - val_loss: 0.6322 - val_accuracy: 0.7000\n",
      "Epoch 95/100\n",
      "3/3 [==============================] - 0s 13ms/step - loss: 0.6199 - accuracy: 0.6667 - val_loss: 0.6192 - val_accuracy: 0.7000\n",
      "Epoch 96/100\n",
      "3/3 [==============================] - 0s 12ms/step - loss: 0.6166 - accuracy: 0.6667 - val_loss: 0.6925 - val_accuracy: 0.6500\n",
      "Epoch 97/100\n",
      "3/3 [==============================] - 0s 18ms/step - loss: 0.6332 - accuracy: 0.6905 - val_loss: 0.6101 - val_accuracy: 0.7000\n",
      "Epoch 98/100\n",
      "3/3 [==============================] - 0s 13ms/step - loss: 0.6706 - accuracy: 0.6905 - val_loss: 0.6189 - val_accuracy: 0.7000\n",
      "Epoch 99/100\n",
      "3/3 [==============================] - 0s 11ms/step - loss: 0.6211 - accuracy: 0.6349 - val_loss: 0.7628 - val_accuracy: 0.4000\n",
      "Epoch 100/100\n",
      "3/3 [==============================] - 0s 11ms/step - loss: 0.6823 - accuracy: 0.5952 - val_loss: 0.6198 - val_accuracy: 0.7000\n"
     ]
    }
   ],
   "source": [
    "history = model.fit(x_train, y_train, validation_data=(val_x, val_y), epochs=100, batch_size=50)"
   ]
  },
  {
   "cell_type": "code",
   "execution_count": 23,
   "id": "5a227d1a-018c-4406-a094-cbe3dfb2a41a",
   "metadata": {},
   "outputs": [
    {
     "name": "stdout",
     "output_type": "stream",
     "text": [
      "4/4 [==============================] - 0s 1ms/step - loss: 0.6238 - accuracy: 0.6667\n"
     ]
    },
    {
     "data": {
      "text/plain": [
       "[0.6238346695899963, 0.6666666865348816]"
      ]
     },
     "execution_count": 23,
     "metadata": {},
     "output_type": "execute_result"
    }
   ],
   "source": [
    "model.evaluate(x_train, y_train)"
   ]
  },
  {
   "cell_type": "code",
   "execution_count": 25,
   "id": "106672fa-e638-4ab6-8611-fa806c02d1aa",
   "metadata": {},
   "outputs": [
    {
     "data": {
      "text/plain": [
       "<tf.Tensor: shape=(2, 2), dtype=int32, numpy=\n",
       "array([[10,  0],\n",
       "       [27,  0]], dtype=int32)>"
      ]
     },
     "execution_count": 25,
     "metadata": {},
     "output_type": "execute_result"
    }
   ],
   "source": [
    "cm = tensorflow.math.confusion_matrix(y_test, model.predict(x_test))\n",
    "cm"
   ]
  },
  {
   "cell_type": "code",
   "execution_count": 29,
   "id": "3ca96aed-a263-4015-b39a-6f39318d446b",
   "metadata": {},
   "outputs": [
    {
     "data": {
      "text/plain": [
       "Text(69.0, 0.5, 'truth')"
      ]
     },
     "execution_count": 29,
     "metadata": {},
     "output_type": "execute_result"
    },
    {
     "data": {
      "image/png": "[encoded data removed]",
      "text/plain": [
       "<Figure size 720x504 with 2 Axes>"
      ]
     },
     "metadata": {
      "needs_background": "light"
     },
     "output_type": "display_data"
    }
   ],
   "source": [
    "import seaborn as sns\n",
    "plt.figure(figsize=(10,7))\n",
    "sns.heatmap(cm, annot=True)\n",
    "plt.xlabel(\"predicted\")\n",
    "plt.ylabel(\"truth\")"
   ]
  },
  {
   "cell_type": "code",
   "execution_count": null,
   "id": "168ea23a-a9dc-412d-bb1b-ac01e797a714",
   "metadata": {},
   "outputs": [],
   "source": []
  }
 ],
 "metadata": {
  "kernelspec": {
   "display_name": "Python 3 (ipykernel)",
   "language": "python",
   "name": "python3"
  },
  "language_info": {
   "codemirror_mode": {
    "name": "ipython",
    "version": 3
   },
   "file_extension": ".py",
   "mimetype": "text/x-python",
   "name": "python",
   "nbconvert_exporter": "python",
   "pygments_lexer": "ipython3",
   "version": "3.9.5"
  }
 },
 "nbformat": 4,
 "nbformat_minor": 5
}
